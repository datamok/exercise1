{
 "cells": [
  {
   "cell_type": "code",
   "execution_count": 1,
   "metadata": {
    "collapsed": true
   },
   "outputs": [],
   "source": [
    "import pandas as pd"
   ]
  },
  {
   "cell_type": "code",
   "execution_count": 11,
   "metadata": {
    "collapsed": true
   },
   "outputs": [],
   "source": [
    "import datetime"
   ]
  },
  {
   "cell_type": "markdown",
   "metadata": {},
   "source": [
    "### Make an excel writer object"
   ]
  },
  {
   "cell_type": "code",
   "execution_count": 4,
   "metadata": {
    "collapsed": true
   },
   "outputs": [],
   "source": [
    "writer = pd.ExcelWriter('subscriber-report.xlsx', engine='xlsxwriter')"
   ]
  },
  {
   "cell_type": "markdown",
   "metadata": {},
   "source": [
    "### Read in data"
   ]
  },
  {
   "cell_type": "code",
   "execution_count": 2,
   "metadata": {
    "collapsed": true
   },
   "outputs": [],
   "source": [
    "data = pd.read_excel('/Users/kyle/Downloads/subscriber-data.xlsx')"
   ]
  },
  {
   "cell_type": "code",
   "execution_count": 3,
   "metadata": {
    "collapsed": false
   },
   "outputs": [
    {
     "data": {
      "text/html": [
       "<div>\n",
       "<table border=\"1\" class=\"dataframe\">\n",
       "  <thead>\n",
       "    <tr style=\"text-align: right;\">\n",
       "      <th></th>\n",
       "      <th>activity_date</th>\n",
       "      <th>market</th>\n",
       "      <th>new_subscriptions</th>\n",
       "      <th>total_disconnects</th>\n",
       "      <th>self_install</th>\n",
       "      <th>professional_install</th>\n",
       "      <th>disconnects</th>\n",
       "      <th>post_install_returns</th>\n",
       "      <th>total_subscribers</th>\n",
       "    </tr>\n",
       "  </thead>\n",
       "  <tbody>\n",
       "    <tr>\n",
       "      <th>0</th>\n",
       "      <td>2017-07-17</td>\n",
       "      <td>Atlanta</td>\n",
       "      <td>18</td>\n",
       "      <td>5</td>\n",
       "      <td>12</td>\n",
       "      <td>6</td>\n",
       "      <td>3</td>\n",
       "      <td>2</td>\n",
       "      <td>33172</td>\n",
       "    </tr>\n",
       "    <tr>\n",
       "      <th>1</th>\n",
       "      <td>2017-07-17</td>\n",
       "      <td>Seattle</td>\n",
       "      <td>23</td>\n",
       "      <td>2</td>\n",
       "      <td>14</td>\n",
       "      <td>9</td>\n",
       "      <td>1</td>\n",
       "      <td>1</td>\n",
       "      <td>240359</td>\n",
       "    </tr>\n",
       "    <tr>\n",
       "      <th>2</th>\n",
       "      <td>2017-07-16</td>\n",
       "      <td>Atlanta</td>\n",
       "      <td>27</td>\n",
       "      <td>6</td>\n",
       "      <td>10</td>\n",
       "      <td>17</td>\n",
       "      <td>4</td>\n",
       "      <td>2</td>\n",
       "      <td>33159</td>\n",
       "    </tr>\n",
       "    <tr>\n",
       "      <th>3</th>\n",
       "      <td>2017-07-16</td>\n",
       "      <td>Seattle</td>\n",
       "      <td>34</td>\n",
       "      <td>1</td>\n",
       "      <td>19</td>\n",
       "      <td>15</td>\n",
       "      <td>1</td>\n",
       "      <td>0</td>\n",
       "      <td>240338</td>\n",
       "    </tr>\n",
       "    <tr>\n",
       "      <th>4</th>\n",
       "      <td>2017-07-15</td>\n",
       "      <td>Atlanta</td>\n",
       "      <td>34</td>\n",
       "      <td>5</td>\n",
       "      <td>17</td>\n",
       "      <td>17</td>\n",
       "      <td>4</td>\n",
       "      <td>1</td>\n",
       "      <td>33138</td>\n",
       "    </tr>\n",
       "  </tbody>\n",
       "</table>\n",
       "</div>"
      ],
      "text/plain": [
       "  activity_date   market  new_subscriptions  total_disconnects  self_install  \\\n",
       "0    2017-07-17  Atlanta                 18                  5            12   \n",
       "1    2017-07-17  Seattle                 23                  2            14   \n",
       "2    2017-07-16  Atlanta                 27                  6            10   \n",
       "3    2017-07-16  Seattle                 34                  1            19   \n",
       "4    2017-07-15  Atlanta                 34                  5            17   \n",
       "\n",
       "   professional_install  disconnects  post_install_returns  total_subscribers  \n",
       "0                     6            3                     2              33172  \n",
       "1                     9            1                     1             240359  \n",
       "2                    17            4                     2              33159  \n",
       "3                    15            1                     0             240338  \n",
       "4                    17            4                     1              33138  "
      ]
     },
     "execution_count": 3,
     "metadata": {},
     "output_type": "execute_result"
    }
   ],
   "source": [
    "data.head()"
   ]
  },
  {
   "cell_type": "code",
   "execution_count": 10,
   "metadata": {
    "collapsed": false
   },
   "outputs": [
    {
     "data": {
      "text/plain": [
       "Timestamp('2015-01-01 00:00:00')"
      ]
     },
     "execution_count": 10,
     "metadata": {},
     "output_type": "execute_result"
    }
   ],
   "source": [
    "data.activity_date.min()"
   ]
  },
  {
   "cell_type": "code",
   "execution_count": 21,
   "metadata": {
    "collapsed": false
   },
   "outputs": [],
   "source": [
    "data['date'] = data.activity_date.apply(lambda x: x.date())"
   ]
  },
  {
   "cell_type": "markdown",
   "metadata": {},
   "source": [
    "### Build datasets from raw, get 2017 first then generalize"
   ]
  },
  {
   "cell_type": "code",
   "execution_count": 23,
   "metadata": {
    "collapsed": true
   },
   "outputs": [
    {
     "data": {
      "text/html": [
       "<div>\n",
       "<table border=\"1\" class=\"dataframe\">\n",
       "  <thead>\n",
       "    <tr style=\"text-align: right;\">\n",
       "      <th></th>\n",
       "      <th>activity_date</th>\n",
       "      <th>market</th>\n",
       "      <th>new_subscriptions</th>\n",
       "      <th>total_disconnects</th>\n",
       "      <th>self_install</th>\n",
       "      <th>professional_install</th>\n",
       "      <th>disconnects</th>\n",
       "      <th>post_install_returns</th>\n",
       "      <th>total_subscribers</th>\n",
       "      <th>date</th>\n",
       "    </tr>\n",
       "  </thead>\n",
       "  <tbody>\n",
       "    <tr>\n",
       "      <th>0</th>\n",
       "      <td>2017-07-17</td>\n",
       "      <td>Atlanta</td>\n",
       "      <td>18</td>\n",
       "      <td>5</td>\n",
       "      <td>12</td>\n",
       "      <td>6</td>\n",
       "      <td>3</td>\n",
       "      <td>2</td>\n",
       "      <td>33172</td>\n",
       "      <td>2017-07-17</td>\n",
       "    </tr>\n",
       "    <tr>\n",
       "      <th>1</th>\n",
       "      <td>2017-07-17</td>\n",
       "      <td>Seattle</td>\n",
       "      <td>23</td>\n",
       "      <td>2</td>\n",
       "      <td>14</td>\n",
       "      <td>9</td>\n",
       "      <td>1</td>\n",
       "      <td>1</td>\n",
       "      <td>240359</td>\n",
       "      <td>2017-07-17</td>\n",
       "    </tr>\n",
       "    <tr>\n",
       "      <th>2</th>\n",
       "      <td>2017-07-16</td>\n",
       "      <td>Atlanta</td>\n",
       "      <td>27</td>\n",
       "      <td>6</td>\n",
       "      <td>10</td>\n",
       "      <td>17</td>\n",
       "      <td>4</td>\n",
       "      <td>2</td>\n",
       "      <td>33159</td>\n",
       "      <td>2017-07-16</td>\n",
       "    </tr>\n",
       "    <tr>\n",
       "      <th>3</th>\n",
       "      <td>2017-07-16</td>\n",
       "      <td>Seattle</td>\n",
       "      <td>34</td>\n",
       "      <td>1</td>\n",
       "      <td>19</td>\n",
       "      <td>15</td>\n",
       "      <td>1</td>\n",
       "      <td>0</td>\n",
       "      <td>240338</td>\n",
       "      <td>2017-07-16</td>\n",
       "    </tr>\n",
       "    <tr>\n",
       "      <th>4</th>\n",
       "      <td>2017-07-15</td>\n",
       "      <td>Atlanta</td>\n",
       "      <td>34</td>\n",
       "      <td>5</td>\n",
       "      <td>17</td>\n",
       "      <td>17</td>\n",
       "      <td>4</td>\n",
       "      <td>1</td>\n",
       "      <td>33138</td>\n",
       "      <td>2017-07-15</td>\n",
       "    </tr>\n",
       "  </tbody>\n",
       "</table>\n",
       "</div>"
      ],
      "text/plain": [
       "  activity_date   market  new_subscriptions  total_disconnects  self_install  \\\n",
       "0    2017-07-17  Atlanta                 18                  5            12   \n",
       "1    2017-07-17  Seattle                 23                  2            14   \n",
       "2    2017-07-16  Atlanta                 27                  6            10   \n",
       "3    2017-07-16  Seattle                 34                  1            19   \n",
       "4    2017-07-15  Atlanta                 34                  5            17   \n",
       "\n",
       "   professional_install  disconnects  post_install_returns  total_subscribers  \\\n",
       "0                     6            3                     2              33172   \n",
       "1                     9            1                     1             240359   \n",
       "2                    17            4                     2              33159   \n",
       "3                    15            1                     0             240338   \n",
       "4                    17            4                     1              33138   \n",
       "\n",
       "         date  \n",
       "0  2017-07-17  \n",
       "1  2017-07-17  \n",
       "2  2017-07-16  \n",
       "3  2017-07-16  \n",
       "4  2017-07-15  "
      ]
     },
     "execution_count": 23,
     "metadata": {},
     "output_type": "execute_result"
    }
   ],
   "source": [
    "data.head()"
   ]
  },
  {
   "cell_type": "code",
   "execution_count": 45,
   "metadata": {
    "collapsed": false
   },
   "outputs": [],
   "source": [
    "data['year'] = data.date.apply(lambda x: x.year)"
   ]
  },
  {
   "cell_type": "code",
   "execution_count": 46,
   "metadata": {
    "collapsed": true
   },
   "outputs": [
    {
     "data": {
      "text/html": [
       "<div>\n",
       "<table border=\"1\" class=\"dataframe\">\n",
       "  <thead>\n",
       "    <tr style=\"text-align: right;\">\n",
       "      <th></th>\n",
       "      <th>activity_date</th>\n",
       "      <th>market</th>\n",
       "      <th>new_subscriptions</th>\n",
       "      <th>total_disconnects</th>\n",
       "      <th>self_install</th>\n",
       "      <th>professional_install</th>\n",
       "      <th>disconnects</th>\n",
       "      <th>post_install_returns</th>\n",
       "      <th>total_subscribers</th>\n",
       "      <th>date</th>\n",
       "      <th>year</th>\n",
       "    </tr>\n",
       "  </thead>\n",
       "  <tbody>\n",
       "    <tr>\n",
       "      <th>0</th>\n",
       "      <td>2017-07-17</td>\n",
       "      <td>Atlanta</td>\n",
       "      <td>18</td>\n",
       "      <td>5</td>\n",
       "      <td>12</td>\n",
       "      <td>6</td>\n",
       "      <td>3</td>\n",
       "      <td>2</td>\n",
       "      <td>33172</td>\n",
       "      <td>2017-07-17</td>\n",
       "      <td>2017</td>\n",
       "    </tr>\n",
       "    <tr>\n",
       "      <th>1</th>\n",
       "      <td>2017-07-17</td>\n",
       "      <td>Seattle</td>\n",
       "      <td>23</td>\n",
       "      <td>2</td>\n",
       "      <td>14</td>\n",
       "      <td>9</td>\n",
       "      <td>1</td>\n",
       "      <td>1</td>\n",
       "      <td>240359</td>\n",
       "      <td>2017-07-17</td>\n",
       "      <td>2017</td>\n",
       "    </tr>\n",
       "    <tr>\n",
       "      <th>2</th>\n",
       "      <td>2017-07-16</td>\n",
       "      <td>Atlanta</td>\n",
       "      <td>27</td>\n",
       "      <td>6</td>\n",
       "      <td>10</td>\n",
       "      <td>17</td>\n",
       "      <td>4</td>\n",
       "      <td>2</td>\n",
       "      <td>33159</td>\n",
       "      <td>2017-07-16</td>\n",
       "      <td>2017</td>\n",
       "    </tr>\n",
       "    <tr>\n",
       "      <th>3</th>\n",
       "      <td>2017-07-16</td>\n",
       "      <td>Seattle</td>\n",
       "      <td>34</td>\n",
       "      <td>1</td>\n",
       "      <td>19</td>\n",
       "      <td>15</td>\n",
       "      <td>1</td>\n",
       "      <td>0</td>\n",
       "      <td>240338</td>\n",
       "      <td>2017-07-16</td>\n",
       "      <td>2017</td>\n",
       "    </tr>\n",
       "    <tr>\n",
       "      <th>4</th>\n",
       "      <td>2017-07-15</td>\n",
       "      <td>Atlanta</td>\n",
       "      <td>34</td>\n",
       "      <td>5</td>\n",
       "      <td>17</td>\n",
       "      <td>17</td>\n",
       "      <td>4</td>\n",
       "      <td>1</td>\n",
       "      <td>33138</td>\n",
       "      <td>2017-07-15</td>\n",
       "      <td>2017</td>\n",
       "    </tr>\n",
       "  </tbody>\n",
       "</table>\n",
       "</div>"
      ],
      "text/plain": [
       "  activity_date   market  new_subscriptions  total_disconnects  self_install  \\\n",
       "0    2017-07-17  Atlanta                 18                  5            12   \n",
       "1    2017-07-17  Seattle                 23                  2            14   \n",
       "2    2017-07-16  Atlanta                 27                  6            10   \n",
       "3    2017-07-16  Seattle                 34                  1            19   \n",
       "4    2017-07-15  Atlanta                 34                  5            17   \n",
       "\n",
       "   professional_install  disconnects  post_install_returns  total_subscribers  \\\n",
       "0                     6            3                     2              33172   \n",
       "1                     9            1                     1             240359   \n",
       "2                    17            4                     2              33159   \n",
       "3                    15            1                     0             240338   \n",
       "4                    17            4                     1              33138   \n",
       "\n",
       "         date  year  \n",
       "0  2017-07-17  2017  \n",
       "1  2017-07-17  2017  \n",
       "2  2017-07-16  2017  \n",
       "3  2017-07-16  2017  \n",
       "4  2017-07-15  2017  "
      ]
     },
     "execution_count": 46,
     "metadata": {},
     "output_type": "execute_result"
    }
   ],
   "source": [
    "data.head()"
   ]
  },
  {
   "cell_type": "code",
   "execution_count": 49,
   "metadata": {
    "collapsed": false
   },
   "outputs": [
    {
     "data": {
      "text/plain": [
       "numpy.int64"
      ]
     },
     "execution_count": 49,
     "metadata": {},
     "output_type": "execute_result"
    }
   ],
   "source": [
    "type(data.year[0])"
   ]
  },
  {
   "cell_type": "code",
   "execution_count": 50,
   "metadata": {
    "collapsed": false
   },
   "outputs": [],
   "source": [
    "data_2017 = data[data.year == 2017]"
   ]
  },
  {
   "cell_type": "code",
   "execution_count": 53,
   "metadata": {
    "collapsed": false
   },
   "outputs": [
    {
     "data": {
      "text/plain": [
       "(396, 11)"
      ]
     },
     "execution_count": 53,
     "metadata": {},
     "output_type": "execute_result"
    }
   ],
   "source": [
    "data_2017.shape"
   ]
  },
  {
   "cell_type": "code",
   "execution_count": 54,
   "metadata": {
    "collapsed": false
   },
   "outputs": [
    {
     "data": {
      "text/html": [
       "<div>\n",
       "<table border=\"1\" class=\"dataframe\">\n",
       "  <thead>\n",
       "    <tr style=\"text-align: right;\">\n",
       "      <th></th>\n",
       "      <th>activity_date</th>\n",
       "      <th>market</th>\n",
       "      <th>new_subscriptions</th>\n",
       "      <th>total_disconnects</th>\n",
       "      <th>self_install</th>\n",
       "      <th>professional_install</th>\n",
       "      <th>disconnects</th>\n",
       "      <th>post_install_returns</th>\n",
       "      <th>total_subscribers</th>\n",
       "      <th>date</th>\n",
       "      <th>year</th>\n",
       "    </tr>\n",
       "  </thead>\n",
       "  <tbody>\n",
       "    <tr>\n",
       "      <th>0</th>\n",
       "      <td>2017-07-17</td>\n",
       "      <td>Atlanta</td>\n",
       "      <td>18</td>\n",
       "      <td>5</td>\n",
       "      <td>12</td>\n",
       "      <td>6</td>\n",
       "      <td>3</td>\n",
       "      <td>2</td>\n",
       "      <td>33172</td>\n",
       "      <td>2017-07-17</td>\n",
       "      <td>2017</td>\n",
       "    </tr>\n",
       "    <tr>\n",
       "      <th>1</th>\n",
       "      <td>2017-07-17</td>\n",
       "      <td>Seattle</td>\n",
       "      <td>23</td>\n",
       "      <td>2</td>\n",
       "      <td>14</td>\n",
       "      <td>9</td>\n",
       "      <td>1</td>\n",
       "      <td>1</td>\n",
       "      <td>240359</td>\n",
       "      <td>2017-07-17</td>\n",
       "      <td>2017</td>\n",
       "    </tr>\n",
       "    <tr>\n",
       "      <th>2</th>\n",
       "      <td>2017-07-16</td>\n",
       "      <td>Atlanta</td>\n",
       "      <td>27</td>\n",
       "      <td>6</td>\n",
       "      <td>10</td>\n",
       "      <td>17</td>\n",
       "      <td>4</td>\n",
       "      <td>2</td>\n",
       "      <td>33159</td>\n",
       "      <td>2017-07-16</td>\n",
       "      <td>2017</td>\n",
       "    </tr>\n",
       "    <tr>\n",
       "      <th>3</th>\n",
       "      <td>2017-07-16</td>\n",
       "      <td>Seattle</td>\n",
       "      <td>34</td>\n",
       "      <td>1</td>\n",
       "      <td>19</td>\n",
       "      <td>15</td>\n",
       "      <td>1</td>\n",
       "      <td>0</td>\n",
       "      <td>240338</td>\n",
       "      <td>2017-07-16</td>\n",
       "      <td>2017</td>\n",
       "    </tr>\n",
       "    <tr>\n",
       "      <th>4</th>\n",
       "      <td>2017-07-15</td>\n",
       "      <td>Atlanta</td>\n",
       "      <td>34</td>\n",
       "      <td>5</td>\n",
       "      <td>17</td>\n",
       "      <td>17</td>\n",
       "      <td>4</td>\n",
       "      <td>1</td>\n",
       "      <td>33138</td>\n",
       "      <td>2017-07-15</td>\n",
       "      <td>2017</td>\n",
       "    </tr>\n",
       "  </tbody>\n",
       "</table>\n",
       "</div>"
      ],
      "text/plain": [
       "  activity_date   market  new_subscriptions  total_disconnects  self_install  \\\n",
       "0    2017-07-17  Atlanta                 18                  5            12   \n",
       "1    2017-07-17  Seattle                 23                  2            14   \n",
       "2    2017-07-16  Atlanta                 27                  6            10   \n",
       "3    2017-07-16  Seattle                 34                  1            19   \n",
       "4    2017-07-15  Atlanta                 34                  5            17   \n",
       "\n",
       "   professional_install  disconnects  post_install_returns  total_subscribers  \\\n",
       "0                     6            3                     2              33172   \n",
       "1                     9            1                     1             240359   \n",
       "2                    17            4                     2              33159   \n",
       "3                    15            1                     0             240338   \n",
       "4                    17            4                     1              33138   \n",
       "\n",
       "         date  year  \n",
       "0  2017-07-17  2017  \n",
       "1  2017-07-17  2017  \n",
       "2  2017-07-16  2017  \n",
       "3  2017-07-16  2017  \n",
       "4  2017-07-15  2017  "
      ]
     },
     "execution_count": 54,
     "metadata": {},
     "output_type": "execute_result"
    }
   ],
   "source": [
    "data_2017.head()"
   ]
  },
  {
   "cell_type": "code",
   "execution_count": null,
   "metadata": {
    "collapsed": true
   },
   "outputs": [],
   "source": [
    "# Stop, EOD\n",
    "# To do: with 2017 data, work on a city, group by isocalendar() aka week and summarise the metrics. Create dict for later use."
   ]
  },
  {
   "cell_type": "code",
   "execution_count": 69,
   "metadata": {
    "collapsed": false
   },
   "outputs": [],
   "source": [
    "atlanta_2017 = data_2017[data_2017.market == 'Atlanta']"
   ]
  },
  {
   "cell_type": "code",
   "execution_count": 107,
   "metadata": {
    "collapsed": false
   },
   "outputs": [
    {
     "name": "stderr",
     "output_type": "stream",
     "text": [
      "/anaconda/lib/python2.7/site-packages/ipykernel/__main__.py:1: SettingWithCopyWarning: \n",
      "A value is trying to be set on a copy of a slice from a DataFrame.\n",
      "Try using .loc[row_indexer,col_indexer] = value instead\n",
      "\n",
      "See the caveats in the documentation: http://pandas.pydata.org/pandas-docs/stable/indexing.html#indexing-view-versus-copy\n",
      "  if __name__ == '__main__':\n"
     ]
    }
   ],
   "source": [
    "atlanta_2017['week'] = atlanta_2017.date.apply(lambda x: x.strftime('%U'))"
   ]
  },
  {
   "cell_type": "code",
   "execution_count": 108,
   "metadata": {
    "collapsed": false
   },
   "outputs": [
    {
     "name": "stderr",
     "output_type": "stream",
     "text": [
      "/anaconda/lib/python2.7/site-packages/ipykernel/__main__.py:1: SettingWithCopyWarning: \n",
      "A value is trying to be set on a copy of a slice from a DataFrame.\n",
      "Try using .loc[row_indexer,col_indexer] = value instead\n",
      "\n",
      "See the caveats in the documentation: http://pandas.pydata.org/pandas-docs/stable/indexing.html#indexing-view-versus-copy\n",
      "  if __name__ == '__main__':\n"
     ]
    }
   ],
   "source": [
    "atlanta_2017['day'] = atlanta_2017.date.apply(lambda x: x.isoweekday())"
   ]
  },
  {
   "cell_type": "code",
   "execution_count": 109,
   "metadata": {
    "collapsed": false
   },
   "outputs": [
    {
     "data": {
      "text/html": [
       "<div>\n",
       "<table border=\"1\" class=\"dataframe\">\n",
       "  <thead>\n",
       "    <tr style=\"text-align: right;\">\n",
       "      <th></th>\n",
       "      <th>activity_date</th>\n",
       "      <th>market</th>\n",
       "      <th>new_subscriptions</th>\n",
       "      <th>total_disconnects</th>\n",
       "      <th>self_install</th>\n",
       "      <th>professional_install</th>\n",
       "      <th>disconnects</th>\n",
       "      <th>post_install_returns</th>\n",
       "      <th>total_subscribers</th>\n",
       "      <th>date</th>\n",
       "      <th>year</th>\n",
       "      <th>week</th>\n",
       "      <th>day</th>\n",
       "    </tr>\n",
       "  </thead>\n",
       "  <tbody>\n",
       "    <tr>\n",
       "      <th>0</th>\n",
       "      <td>2017-07-17</td>\n",
       "      <td>Atlanta</td>\n",
       "      <td>18</td>\n",
       "      <td>5</td>\n",
       "      <td>12</td>\n",
       "      <td>6</td>\n",
       "      <td>3</td>\n",
       "      <td>2</td>\n",
       "      <td>33172</td>\n",
       "      <td>2017-07-17</td>\n",
       "      <td>2017</td>\n",
       "      <td>29</td>\n",
       "      <td>1</td>\n",
       "    </tr>\n",
       "    <tr>\n",
       "      <th>2</th>\n",
       "      <td>2017-07-16</td>\n",
       "      <td>Atlanta</td>\n",
       "      <td>27</td>\n",
       "      <td>6</td>\n",
       "      <td>10</td>\n",
       "      <td>17</td>\n",
       "      <td>4</td>\n",
       "      <td>2</td>\n",
       "      <td>33159</td>\n",
       "      <td>2017-07-16</td>\n",
       "      <td>2017</td>\n",
       "      <td>29</td>\n",
       "      <td>7</td>\n",
       "    </tr>\n",
       "    <tr>\n",
       "      <th>4</th>\n",
       "      <td>2017-07-15</td>\n",
       "      <td>Atlanta</td>\n",
       "      <td>34</td>\n",
       "      <td>5</td>\n",
       "      <td>17</td>\n",
       "      <td>17</td>\n",
       "      <td>4</td>\n",
       "      <td>1</td>\n",
       "      <td>33138</td>\n",
       "      <td>2017-07-15</td>\n",
       "      <td>2017</td>\n",
       "      <td>28</td>\n",
       "      <td>6</td>\n",
       "    </tr>\n",
       "    <tr>\n",
       "      <th>6</th>\n",
       "      <td>2017-07-14</td>\n",
       "      <td>Atlanta</td>\n",
       "      <td>30</td>\n",
       "      <td>6</td>\n",
       "      <td>16</td>\n",
       "      <td>14</td>\n",
       "      <td>4</td>\n",
       "      <td>2</td>\n",
       "      <td>33109</td>\n",
       "      <td>2017-07-14</td>\n",
       "      <td>2017</td>\n",
       "      <td>28</td>\n",
       "      <td>5</td>\n",
       "    </tr>\n",
       "    <tr>\n",
       "      <th>8</th>\n",
       "      <td>2017-07-13</td>\n",
       "      <td>Atlanta</td>\n",
       "      <td>27</td>\n",
       "      <td>3</td>\n",
       "      <td>19</td>\n",
       "      <td>8</td>\n",
       "      <td>3</td>\n",
       "      <td>0</td>\n",
       "      <td>33085</td>\n",
       "      <td>2017-07-13</td>\n",
       "      <td>2017</td>\n",
       "      <td>28</td>\n",
       "      <td>4</td>\n",
       "    </tr>\n",
       "  </tbody>\n",
       "</table>\n",
       "</div>"
      ],
      "text/plain": [
       "  activity_date   market  new_subscriptions  total_disconnects  self_install  \\\n",
       "0    2017-07-17  Atlanta                 18                  5            12   \n",
       "2    2017-07-16  Atlanta                 27                  6            10   \n",
       "4    2017-07-15  Atlanta                 34                  5            17   \n",
       "6    2017-07-14  Atlanta                 30                  6            16   \n",
       "8    2017-07-13  Atlanta                 27                  3            19   \n",
       "\n",
       "   professional_install  disconnects  post_install_returns  total_subscribers  \\\n",
       "0                     6            3                     2              33172   \n",
       "2                    17            4                     2              33159   \n",
       "4                    17            4                     1              33138   \n",
       "6                    14            4                     2              33109   \n",
       "8                     8            3                     0              33085   \n",
       "\n",
       "         date  year week  day  \n",
       "0  2017-07-17  2017   29    1  \n",
       "2  2017-07-16  2017   29    7  \n",
       "4  2017-07-15  2017   28    6  \n",
       "6  2017-07-14  2017   28    5  \n",
       "8  2017-07-13  2017   28    4  "
      ]
     },
     "execution_count": 109,
     "metadata": {},
     "output_type": "execute_result"
    }
   ],
   "source": [
    "atlanta_2017.head()"
   ]
  },
  {
   "cell_type": "code",
   "execution_count": 116,
   "metadata": {
    "collapsed": false
   },
   "outputs": [],
   "source": [
    "atlanta_2017_agg = atlanta_2017.groupby('week').agg({'new_subscriptions':sum, 'self_install':sum, 'professional_install':sum, 'disconnects':sum,\\\n",
    "                                                     'post_install_returns':sum, 'total_disconnects':sum})"
   ]
  },
  {
   "cell_type": "code",
   "execution_count": 117,
   "metadata": {
    "collapsed": true
   },
   "outputs": [],
   "source": [
    "atlanta_2017_ending_subs = atlanta_2017[atlanta_2017.day == 7]"
   ]
  },
  {
   "cell_type": "code",
   "execution_count": 118,
   "metadata": {
    "collapsed": false
   },
   "outputs": [],
   "source": [
    "atlanta_2017_ending_subs_join = atlanta_2017_ending_subs[['total_subscribers', 'week']]"
   ]
  },
  {
   "cell_type": "code",
   "execution_count": 119,
   "metadata": {
    "collapsed": false
   },
   "outputs": [],
   "source": [
    "atlanta_2017_agg['net_gain'] = atlanta_2017_agg.new_subscriptions - atlanta_2017_agg.total_disconnects"
   ]
  },
  {
   "cell_type": "code",
   "execution_count": 130,
   "metadata": {
    "collapsed": false
   },
   "outputs": [],
   "source": [
    "atlanta_2017_agg2 = atlanta_2017_agg.reset_index().merge(atlanta_2017_ending_subs_join, on='week')"
   ]
  },
  {
   "cell_type": "code",
   "execution_count": null,
   "metadata": {
    "collapsed": false
   },
   "outputs": [],
   "source": []
  },
  {
   "cell_type": "code",
   "execution_count": null,
   "metadata": {
    "collapsed": true
   },
   "outputs": [],
   "source": []
  },
  {
   "cell_type": "code",
   "execution_count": 133,
   "metadata": {
    "collapsed": false
   },
   "outputs": [],
   "source": [
    "atlanta_2017_agg2['beginning_subs'] = atlanta_2017_agg2.total_subscribers.shift(1)"
   ]
  },
  {
   "cell_type": "code",
   "execution_count": 145,
   "metadata": {
    "collapsed": false
   },
   "outputs": [
    {
     "data": {
      "text/html": [
       "<div>\n",
       "<table border=\"1\" class=\"dataframe\">\n",
       "  <thead>\n",
       "    <tr style=\"text-align: right;\">\n",
       "      <th></th>\n",
       "      <th>Week 1</th>\n",
       "      <th>Week 2</th>\n",
       "      <th>Week 3</th>\n",
       "      <th>Week 4</th>\n",
       "      <th>Week 5</th>\n",
       "      <th>Week 6</th>\n",
       "      <th>Week 7</th>\n",
       "      <th>Week 8</th>\n",
       "      <th>Week 9</th>\n",
       "      <th>Week 10</th>\n",
       "      <th>...</th>\n",
       "      <th>Week 20</th>\n",
       "      <th>Week 21</th>\n",
       "      <th>Week 22</th>\n",
       "      <th>Week 23</th>\n",
       "      <th>Week 24</th>\n",
       "      <th>Week 25</th>\n",
       "      <th>Week 26</th>\n",
       "      <th>Week 27</th>\n",
       "      <th>Week 28</th>\n",
       "      <th>Week 29</th>\n",
       "    </tr>\n",
       "  </thead>\n",
       "  <tbody>\n",
       "    <tr>\n",
       "      <th>Beginning Subscribers</th>\n",
       "      <td>NaN</td>\n",
       "      <td>28657</td>\n",
       "      <td>28779</td>\n",
       "      <td>28935</td>\n",
       "      <td>29118</td>\n",
       "      <td>29259</td>\n",
       "      <td>29449</td>\n",
       "      <td>29618</td>\n",
       "      <td>29766</td>\n",
       "      <td>29924</td>\n",
       "      <td>...</td>\n",
       "      <td>31537</td>\n",
       "      <td>31707</td>\n",
       "      <td>31869</td>\n",
       "      <td>32032</td>\n",
       "      <td>32210</td>\n",
       "      <td>32347</td>\n",
       "      <td>32520</td>\n",
       "      <td>32650</td>\n",
       "      <td>32829</td>\n",
       "      <td>33001</td>\n",
       "    </tr>\n",
       "    <tr>\n",
       "      <th>Total Connects</th>\n",
       "      <td>158</td>\n",
       "      <td>174</td>\n",
       "      <td>199</td>\n",
       "      <td>166</td>\n",
       "      <td>209</td>\n",
       "      <td>201</td>\n",
       "      <td>164</td>\n",
       "      <td>179</td>\n",
       "      <td>171</td>\n",
       "      <td>197</td>\n",
       "      <td>...</td>\n",
       "      <td>188</td>\n",
       "      <td>175</td>\n",
       "      <td>209</td>\n",
       "      <td>166</td>\n",
       "      <td>191</td>\n",
       "      <td>162</td>\n",
       "      <td>176</td>\n",
       "      <td>189</td>\n",
       "      <td>195</td>\n",
       "      <td>45</td>\n",
       "    </tr>\n",
       "    <tr>\n",
       "      <th>Self Installs</th>\n",
       "      <td>86</td>\n",
       "      <td>94</td>\n",
       "      <td>110</td>\n",
       "      <td>99</td>\n",
       "      <td>111</td>\n",
       "      <td>113</td>\n",
       "      <td>98</td>\n",
       "      <td>102</td>\n",
       "      <td>102</td>\n",
       "      <td>116</td>\n",
       "      <td>...</td>\n",
       "      <td>103</td>\n",
       "      <td>97</td>\n",
       "      <td>111</td>\n",
       "      <td>91</td>\n",
       "      <td>115</td>\n",
       "      <td>89</td>\n",
       "      <td>102</td>\n",
       "      <td>120</td>\n",
       "      <td>113</td>\n",
       "      <td>22</td>\n",
       "    </tr>\n",
       "    <tr>\n",
       "      <th>Pro Installs</th>\n",
       "      <td>72</td>\n",
       "      <td>80</td>\n",
       "      <td>89</td>\n",
       "      <td>67</td>\n",
       "      <td>98</td>\n",
       "      <td>88</td>\n",
       "      <td>66</td>\n",
       "      <td>77</td>\n",
       "      <td>69</td>\n",
       "      <td>81</td>\n",
       "      <td>...</td>\n",
       "      <td>85</td>\n",
       "      <td>78</td>\n",
       "      <td>98</td>\n",
       "      <td>75</td>\n",
       "      <td>76</td>\n",
       "      <td>73</td>\n",
       "      <td>74</td>\n",
       "      <td>69</td>\n",
       "      <td>82</td>\n",
       "      <td>23</td>\n",
       "    </tr>\n",
       "    <tr>\n",
       "      <th>Total Disconnects</th>\n",
       "      <td>27</td>\n",
       "      <td>29</td>\n",
       "      <td>20</td>\n",
       "      <td>26</td>\n",
       "      <td>23</td>\n",
       "      <td>19</td>\n",
       "      <td>22</td>\n",
       "      <td>17</td>\n",
       "      <td>25</td>\n",
       "      <td>23</td>\n",
       "      <td>...</td>\n",
       "      <td>20</td>\n",
       "      <td>29</td>\n",
       "      <td>21</td>\n",
       "      <td>23</td>\n",
       "      <td>23</td>\n",
       "      <td>24</td>\n",
       "      <td>21</td>\n",
       "      <td>13</td>\n",
       "      <td>26</td>\n",
       "      <td>11</td>\n",
       "    </tr>\n",
       "    <tr>\n",
       "      <th>Post Install Returns</th>\n",
       "      <td>6</td>\n",
       "      <td>11</td>\n",
       "      <td>8</td>\n",
       "      <td>8</td>\n",
       "      <td>10</td>\n",
       "      <td>6</td>\n",
       "      <td>9</td>\n",
       "      <td>5</td>\n",
       "      <td>10</td>\n",
       "      <td>9</td>\n",
       "      <td>...</td>\n",
       "      <td>3</td>\n",
       "      <td>10</td>\n",
       "      <td>9</td>\n",
       "      <td>7</td>\n",
       "      <td>10</td>\n",
       "      <td>8</td>\n",
       "      <td>10</td>\n",
       "      <td>6</td>\n",
       "      <td>7</td>\n",
       "      <td>4</td>\n",
       "    </tr>\n",
       "    <tr>\n",
       "      <th>Disconnects</th>\n",
       "      <td>21</td>\n",
       "      <td>18</td>\n",
       "      <td>12</td>\n",
       "      <td>18</td>\n",
       "      <td>13</td>\n",
       "      <td>13</td>\n",
       "      <td>13</td>\n",
       "      <td>12</td>\n",
       "      <td>15</td>\n",
       "      <td>14</td>\n",
       "      <td>...</td>\n",
       "      <td>17</td>\n",
       "      <td>19</td>\n",
       "      <td>12</td>\n",
       "      <td>16</td>\n",
       "      <td>13</td>\n",
       "      <td>16</td>\n",
       "      <td>11</td>\n",
       "      <td>7</td>\n",
       "      <td>19</td>\n",
       "      <td>7</td>\n",
       "    </tr>\n",
       "    <tr>\n",
       "      <th>Net Gain</th>\n",
       "      <td>131</td>\n",
       "      <td>145</td>\n",
       "      <td>179</td>\n",
       "      <td>140</td>\n",
       "      <td>186</td>\n",
       "      <td>182</td>\n",
       "      <td>142</td>\n",
       "      <td>162</td>\n",
       "      <td>146</td>\n",
       "      <td>174</td>\n",
       "      <td>...</td>\n",
       "      <td>168</td>\n",
       "      <td>146</td>\n",
       "      <td>188</td>\n",
       "      <td>143</td>\n",
       "      <td>168</td>\n",
       "      <td>138</td>\n",
       "      <td>155</td>\n",
       "      <td>176</td>\n",
       "      <td>169</td>\n",
       "      <td>34</td>\n",
       "    </tr>\n",
       "    <tr>\n",
       "      <th>Ending Subs</th>\n",
       "      <td>28657</td>\n",
       "      <td>28779</td>\n",
       "      <td>28935</td>\n",
       "      <td>29118</td>\n",
       "      <td>29259</td>\n",
       "      <td>29449</td>\n",
       "      <td>29618</td>\n",
       "      <td>29766</td>\n",
       "      <td>29924</td>\n",
       "      <td>30075</td>\n",
       "      <td>...</td>\n",
       "      <td>31707</td>\n",
       "      <td>31869</td>\n",
       "      <td>32032</td>\n",
       "      <td>32210</td>\n",
       "      <td>32347</td>\n",
       "      <td>32520</td>\n",
       "      <td>32650</td>\n",
       "      <td>32829</td>\n",
       "      <td>33001</td>\n",
       "      <td>33159</td>\n",
       "    </tr>\n",
       "  </tbody>\n",
       "</table>\n",
       "<p>9 rows × 29 columns</p>\n",
       "</div>"
      ],
      "text/plain": [
       "                      Week 1 Week 2 Week 3 Week 4 Week 5 Week 6 Week 7 Week 8  \\\n",
       "Beginning Subscribers    NaN  28657  28779  28935  29118  29259  29449  29618   \n",
       "Total Connects           158    174    199    166    209    201    164    179   \n",
       "Self Installs             86     94    110     99    111    113     98    102   \n",
       "Pro Installs              72     80     89     67     98     88     66     77   \n",
       "Total Disconnects         27     29     20     26     23     19     22     17   \n",
       "Post Install Returns       6     11      8      8     10      6      9      5   \n",
       "Disconnects               21     18     12     18     13     13     13     12   \n",
       "Net Gain                 131    145    179    140    186    182    142    162   \n",
       "Ending Subs            28657  28779  28935  29118  29259  29449  29618  29766   \n",
       "\n",
       "                      Week 9 Week 10   ...   Week 20 Week 21 Week 22 Week 23  \\\n",
       "Beginning Subscribers  29766   29924   ...     31537   31707   31869   32032   \n",
       "Total Connects           171     197   ...       188     175     209     166   \n",
       "Self Installs            102     116   ...       103      97     111      91   \n",
       "Pro Installs              69      81   ...        85      78      98      75   \n",
       "Total Disconnects         25      23   ...        20      29      21      23   \n",
       "Post Install Returns      10       9   ...         3      10       9       7   \n",
       "Disconnects               15      14   ...        17      19      12      16   \n",
       "Net Gain                 146     174   ...       168     146     188     143   \n",
       "Ending Subs            29924   30075   ...     31707   31869   32032   32210   \n",
       "\n",
       "                      Week 24 Week 25 Week 26 Week 27 Week 28 Week 29  \n",
       "Beginning Subscribers   32210   32347   32520   32650   32829   33001  \n",
       "Total Connects            191     162     176     189     195      45  \n",
       "Self Installs             115      89     102     120     113      22  \n",
       "Pro Installs               76      73      74      69      82      23  \n",
       "Total Disconnects          23      24      21      13      26      11  \n",
       "Post Install Returns       10       8      10       6       7       4  \n",
       "Disconnects                13      16      11       7      19       7  \n",
       "Net Gain                  168     138     155     176     169      34  \n",
       "Ending Subs             32347   32520   32650   32829   33001   33159  \n",
       "\n",
       "[9 rows x 29 columns]"
      ]
     },
     "execution_count": 145,
     "metadata": {},
     "output_type": "execute_result"
    }
   ],
   "source": [
    "atlanta_2017_agg2.transpose().reindex(['beginning_subs', 'new_subscriptions', 'self_install', 'professional_install',\\\n",
    "                          'total_disconnects', 'post_install_returns', 'disconnects',\\\n",
    "                          'net_gain', 'total_subscribers']).rename(index={\n",
    "                                                                'beginning_subs':'Beginning Subscribers',\n",
    "                                                                'new_subscriptions':'Total Connects',\n",
    "                                                                'self_install':'Self Installs',\n",
    "                                                                'professional_install':'Pro Installs',\n",
    "                                                                'total_disconnects':'Total Disconnects',\n",
    "                                                                'post_install_returns':'Post Install Returns',\n",
    "                                                                'disconnects':'Disconnects',\n",
    "                                                                'net_gain':'Net Gain',\n",
    "                                                                'total_subscribers':'Ending Subs'\n",
    "}).rename(columns=lambda x: 'Week '+str(x+1))"
   ]
  },
  {
   "cell_type": "code",
   "execution_count": null,
   "metadata": {
    "collapsed": false
   },
   "outputs": [],
   "source": [
    "## EOD, have a working df for a year and city. Need to generalize to incorporate different cities and years next"
   ]
  },
  {
   "cell_type": "code",
   "execution_count": null,
   "metadata": {
    "collapsed": true
   },
   "outputs": [],
   "source": []
  },
  {
   "cell_type": "code",
   "execution_count": null,
   "metadata": {
    "collapsed": true
   },
   "outputs": [],
   "source": []
  },
  {
   "cell_type": "code",
   "execution_count": null,
   "metadata": {
    "collapsed": true
   },
   "outputs": [],
   "source": []
  },
  {
   "cell_type": "markdown",
   "metadata": {},
   "source": [
    "### Write dataframes to workbook"
   ]
  },
  {
   "cell_type": "code",
   "execution_count": 5,
   "metadata": {
    "collapsed": true
   },
   "outputs": [],
   "source": [
    "workbook = writer.book"
   ]
  },
  {
   "cell_type": "code",
   "execution_count": 7,
   "metadata": {
    "collapsed": false
   },
   "outputs": [
    {
     "ename": "KeyError",
     "evalue": "'Sheet1'",
     "output_type": "error",
     "traceback": [
      "\u001b[0;31m---------------------------------------------------------------------------\u001b[0m",
      "\u001b[0;31mKeyError\u001b[0m                                  Traceback (most recent call last)",
      "\u001b[0;32m<ipython-input-7-f6ee4c92563d>\u001b[0m in \u001b[0;36m<module>\u001b[0;34m()\u001b[0m\n\u001b[0;32m----> 1\u001b[0;31m \u001b[0mworksheet\u001b[0m \u001b[0;34m=\u001b[0m \u001b[0mwriter\u001b[0m\u001b[0;34m.\u001b[0m\u001b[0msheets\u001b[0m\u001b[0;34m[\u001b[0m\u001b[0;34m'Sheet1'\u001b[0m\u001b[0;34m]\u001b[0m\u001b[0;34m\u001b[0m\u001b[0m\n\u001b[0m",
      "\u001b[0;31mKeyError\u001b[0m: 'Sheet1'"
     ]
    }
   ],
   "source": [
    "worksheet = writer.sheets['Sheet1']"
   ]
  },
  {
   "cell_type": "code",
   "execution_count": null,
   "metadata": {
    "collapsed": true
   },
   "outputs": [],
   "source": []
  }
 ],
 "metadata": {
  "kernelspec": {
   "display_name": "Python 2",
   "language": "python",
   "name": "python2"
  },
  "language_info": {
   "codemirror_mode": {
    "name": "ipython",
    "version": 2
   },
   "file_extension": ".py",
   "mimetype": "text/x-python",
   "name": "python",
   "nbconvert_exporter": "python",
   "pygments_lexer": "ipython2",
   "version": "2.7.13"
  }
 },
 "nbformat": 4,
 "nbformat_minor": 2
}
